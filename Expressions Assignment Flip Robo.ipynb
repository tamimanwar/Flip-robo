{
 "cells": [
  {
   "cell_type": "code",
   "execution_count": 1,
   "id": "0068b5f5",
   "metadata": {},
   "outputs": [
    {
     "name": "stdout",
     "output_type": "stream",
     "text": [
      "The string contains only letters and digits\n"
     ]
    }
   ],
   "source": [
    "import re\n",
    "# sample string\n",
    "s = \"Hello123\"\n",
    "# regular expression pattern that matches a-z, A-Z and 0-9\n",
    "pattern = \"^[a-zA-Z0-9]+$\"\n",
    "# check if string matches the pattern\n",
    "if re.match(pattern, s):\n",
    "    print(\"The string contains only letters and digits\")\n",
    "else:\n",
    "    print(\"The string contains other characters\")"
   ]
  },
  {
   "cell_type": "code",
   "execution_count": 3,
   "id": "1c0cf47a",
   "metadata": {},
   "outputs": [],
   "source": [
    "import re\n",
    "# define a function that takes a string as an argument\n",
    "def match_ab(string):\n",
    "    # define a regular expression pattern that matches an a followed by zero or more b's\n",
    "    pattern = \"^ab*\"\n",
    "    # use the re.match() function to check if the string matches the pattern\n",
    "    # re.match() returns a match object if there is a match, or None otherwise\n",
    "    match = re.match(pattern, string)\n",
    "    # return True if there is a match, or False otherwise\n",
    "    return bool(match)"
   ]
  },
  {
   "cell_type": "code",
   "execution_count": 4,
   "id": "7a56951f",
   "metadata": {},
   "outputs": [
    {
     "name": "stdout",
     "output_type": "stream",
     "text": [
      "True\n",
      "True\n",
      "False\n",
      "True\n"
     ]
    }
   ],
   "source": [
    "# sample strings\n",
    "s1 = \"abbb\"\n",
    "s2 = \"ac\"\n",
    "s3 = \"ba\"\n",
    "s4 = \"abbab\"\n",
    "# test the function\n",
    "print(match_ab(s1)) # True\n",
    "print(match_ab(s2)) # False\n",
    "print(match_ab(s3)) # False\n",
    "print(match_ab(s4)) # True"
   ]
  },
  {
   "cell_type": "code",
   "execution_count": 5,
   "id": "dd6d7b9f",
   "metadata": {},
   "outputs": [],
   "source": [
    "import re\n",
    "# define a function that takes a string as an argument\n",
    "def match_ab(string):\n",
    "    # define a regular expression pattern that matches an a followed by one or more b's\n",
    "    # the + symbol means one or more repetitions of the preceding character\n",
    "    # the ? symbol means the shortest possible match (non-greedy)\n",
    "    pattern = \"ab+?\"\n",
    "    # use the re.search() function to check if the string matches the pattern\n",
    "    # re.search() returns a match object if there is a match, or None otherwise\n",
    "    match = re.search(pattern, string)\n",
    "    # return True if there is a match, or False otherwise\n",
    "    return bool(match)"
   ]
  },
  {
   "cell_type": "code",
   "execution_count": 6,
   "id": "4a6885b0",
   "metadata": {},
   "outputs": [
    {
     "name": "stdout",
     "output_type": "stream",
     "text": [
      "True\n",
      "False\n",
      "False\n",
      "True\n"
     ]
    }
   ],
   "source": [
    "# sample strings\n",
    "s1 = \"abbb\"\n",
    "s2 = \"ac\"\n",
    "s3 = \"ba\"\n",
    "s4 = \"abbab\"\n",
    "# test the function\n",
    "print(match_ab(s1)) # True\n",
    "print(match_ab(s2)) # False\n",
    "print(match_ab(s3)) # False\n",
    "print(match_ab(s4)) # True"
   ]
  },
  {
   "cell_type": "code",
   "execution_count": 7,
   "id": "71cdcd9e",
   "metadata": {},
   "outputs": [
    {
     "name": "stdout",
     "output_type": "stream",
     "text": [
      "Match found\n",
      "Match found\n",
      "Match found\n",
      "Match found\n",
      "Match found\n"
     ]
    }
   ],
   "source": [
    "# Import re module\n",
    "import re\n",
    "\n",
    "# Define a function that takes a string as a parameter\n",
    "def match_ab(text):\n",
    "  # Define a RegEx pattern that matches an a followed by zero or one 'b'\n",
    "  pattern = 'ab?'\n",
    "  # Check if the string matches the pattern\n",
    "  result = re.search(pattern, text)\n",
    "  # Return a message based on the result\n",
    "  if result:\n",
    "    return 'Match found'\n",
    "  else:\n",
    "    return 'No match'\n",
    "\n",
    "# Call the function with some examples and print the output\n",
    "print(match_ab('ac'))\n",
    "print(match_ab('abc'))\n",
    "print(match_ab('a'))\n",
    "print(match_ab('ab'))\n",
    "print(match_ab('abb'))"
   ]
  },
  {
   "cell_type": "code",
   "execution_count": 8,
   "id": "390b1efa",
   "metadata": {},
   "outputs": [
    {
     "name": "stdout",
     "output_type": "stream",
     "text": [
      "Match found\n",
      "Match found\n",
      "No match\n",
      "No match\n",
      "No match\n"
     ]
    }
   ],
   "source": [
    "# Import re module\n",
    "import re\n",
    "\n",
    "# Define a function that takes a string as a parameter\n",
    "def match_abb(text):\n",
    "  # Define a RegEx pattern that matches an a followed by three 'b'\n",
    "  pattern = 'ab{3}'\n",
    "  # Check if the string matches the pattern\n",
    "  result = re.search(pattern, text)\n",
    "  # Return a message based on the result\n",
    "  if result:\n",
    "    return 'Match found'\n",
    "  else:\n",
    "    return 'No match'\n",
    "\n",
    "# Call the function with some examples and print the output\n",
    "print(match_abb('abbb'))\n",
    "print(match_abb('aabbbbbc'))\n",
    "print(match_abb('a'))\n",
    "print(match_abb('ab'))\n",
    "print(match_abb('abb'))"
   ]
  },
  {
   "cell_type": "code",
   "execution_count": 9,
   "id": "1a10d1c8",
   "metadata": {},
   "outputs": [
    {
     "name": "stdout",
     "output_type": "stream",
     "text": [
      "['Importance', 'Of', 'Regular', 'Expressions', 'In', 'Python']\n"
     ]
    }
   ],
   "source": [
    "# Import re module\n",
    "import re\n",
    "\n",
    "# Define a string that you want to split\n",
    "text = \"ImportanceOfRegularExpressionsInPython\"\n",
    "\n",
    "# Define a RegEx pattern that matches an uppercase letter followed by zero or more lowercase letters\n",
    "pattern = \"[A-Z][a-z]*\"\n",
    "\n",
    "# Find all the matches of the pattern in the string\n",
    "result = re.findall(pattern, text)\n",
    "\n",
    "# Print the result\n",
    "print(result)"
   ]
  },
  {
   "cell_type": "code",
   "execution_count": 10,
   "id": "5ab83e68",
   "metadata": {},
   "outputs": [
    {
     "name": "stdout",
     "output_type": "stream",
     "text": [
      "No match\n",
      "Match found\n",
      "No match\n",
      "No match\n",
      "Match found\n"
     ]
    }
   ],
   "source": [
    "# Import re module\n",
    "import re\n",
    "\n",
    "# Define a function that takes a string as a parameter\n",
    "def match_abb(text):\n",
    "  # Define a RegEx pattern that matches an a followed by two to three 'b'\n",
    "  pattern = 'ab{2,3}'\n",
    "  # Check if the string matches the pattern\n",
    "  result = re.search(pattern, text)\n",
    "  # Return a message based on the result\n",
    "  if result:\n",
    "    return 'Match found'\n",
    "  else:\n",
    "    return 'No match'\n",
    "\n",
    "# Call the function with some examples and print the output\n",
    "print(match_abb('ab'))\n",
    "print(match_abb('aabbbbbc'))\n",
    "print(match_abb('a'))\n",
    "print(match_abb('ab'))\n",
    "print(match_abb('abb'))"
   ]
  },
  {
   "cell_type": "code",
   "execution_count": 11,
   "id": "6330d9f5",
   "metadata": {},
   "outputs": [
    {
     "name": "stdout",
     "output_type": "stream",
     "text": [
      "['hello_world']\n"
     ]
    }
   ],
   "source": [
    "# Import re module\n",
    "import re\n",
    "\n",
    "# Define a string that you want to find the sequences in\n",
    "text = \"hello_world_python\"\n",
    "\n",
    "# Define a RegEx pattern that matches one or more lowercase letters followed by an underscore followed by one or more lowercase letters\n",
    "pattern = \"[a-z]+_[a-z]+\"\n",
    "\n",
    "# Find all the matches of the pattern in the string\n",
    "result = re.findall(pattern, text)\n",
    "\n",
    "# Print the result\n",
    "print(result)"
   ]
  },
  {
   "cell_type": "code",
   "execution_count": 12,
   "id": "52b62105",
   "metadata": {},
   "outputs": [
    {
     "name": "stdout",
     "output_type": "stream",
     "text": [
      "No match\n",
      "No match\n",
      "Match found\n"
     ]
    }
   ],
   "source": [
    "# Import re module\n",
    "import re\n",
    "\n",
    "# Define a function that takes a string as a parameter\n",
    "def match_ab(text):\n",
    "  # Define a RegEx pattern that matches an 'a' followed by anything, ending in 'b'\n",
    "  pattern = 'a.*?b$'\n",
    "  # Check if the string matches the pattern\n",
    "  result = re.search(pattern, text)\n",
    "  # Return a message based on the result\n",
    "  if result:\n",
    "    return 'Match found'\n",
    "  else:\n",
    "    return 'No match'\n",
    "\n",
    "# Call the function with some examples and print the output\n",
    "print(match_ab('aabbbbd'))\n",
    "print(match_ab('aabAbbbc'))\n",
    "print(match_ab('accddbbjjjb'))"
   ]
  },
  {
   "cell_type": "code",
   "execution_count": 13,
   "id": "3d1354b9",
   "metadata": {},
   "outputs": [
    {
     "name": "stdout",
     "output_type": "stream",
     "text": [
      "Match found: Hello\n"
     ]
    }
   ],
   "source": [
    "# Import re module\n",
    "import re\n",
    "\n",
    "# Define a string that you want to match\n",
    "text = \"Hello world\"\n",
    "\n",
    "# Define a RegEx pattern that matches a word at the beginning of the string\n",
    "pattern = \"^\\w+\"\n",
    "\n",
    "# Check if the string matches the pattern\n",
    "result = re.match(pattern, text)\n",
    "\n",
    "# Print a message based on the result\n",
    "if result:\n",
    "  print(\"Match found:\", result.group())\n",
    "else:\n",
    "  print(\"No match\")"
   ]
  },
  {
   "cell_type": "code",
   "execution_count": 14,
   "id": "af634b35",
   "metadata": {},
   "outputs": [
    {
     "name": "stdout",
     "output_type": "stream",
     "text": [
      "No match\n",
      "Found a match!\n"
     ]
    }
   ],
   "source": [
    "# Import re module\n",
    "import re\n",
    "\n",
    "# Define a function that takes a string as a parameter\n",
    "def text_match(text):\n",
    "  # Define a RegEx pattern that matches a string that contains only upper and lowercase letters, numbers, and underscores\n",
    "  pattern = \"^[a-zA-Z0-9_]*$\"\n",
    "  # Check if the string matches the pattern\n",
    "  result = re.search(pattern, text)\n",
    "  # Return a message based on the result\n",
    "  if result:\n",
    "    return 'Found a match!'\n",
    "  else:\n",
    "    return 'No match'\n",
    "\n",
    "# Call the function with some examples and print the output\n",
    "print(text_match(\"The quick brown fox jumps over the lazy dog.\"))\n",
    "print(text_match(\"Python_Exercises_1\"))"
   ]
  },
  {
   "cell_type": "code",
   "execution_count": 15,
   "id": "2ec70ddf",
   "metadata": {},
   "outputs": [
    {
     "name": "stdout",
     "output_type": "stream",
     "text": [
      "Match found!\n",
      "No match\n"
     ]
    }
   ],
   "source": [
    "# Import re module\n",
    "import re\n",
    "\n",
    "# Define a function that takes a string and a number as parameters\n",
    "def match_number(text, number):\n",
    "  # Define a RegEx pattern that matches a string that starts with the specified number\n",
    "  pattern = \"^\" + str(number) + \"\\d*\"\n",
    "  # Check if the string matches the pattern\n",
    "  result = re.search(pattern, text)\n",
    "  # Return a message based on the result\n",
    "  if result:\n",
    "    return 'Match found!'\n",
    "  else:\n",
    "    return 'No match'\n",
    "\n",
    "# Call the function with some examples and print the output\n",
    "print(match_number(\"5-2345861\", 5))\n",
    "print(match_number(\"6-2345861\", 5))"
   ]
  },
  {
   "cell_type": "code",
   "execution_count": 16,
   "id": "ca13bcbd",
   "metadata": {},
   "outputs": [
    {
     "name": "stdout",
     "output_type": "stream",
     "text": [
      "255.24.1.1\n",
      "127.0.0.1\n"
     ]
    }
   ],
   "source": [
    "# Import re module\n",
    "import re\n",
    "\n",
    "# Define a function that takes an IP address as a parameter\n",
    "def remove_zeros(ip):\n",
    "  # Replace any zero or more zeros followed by a digit with the digit itself\n",
    "  new_ip = re.sub(\"0*(\\d)\", \"\\g<1>\", ip)\n",
    "  # Return the new IP address\n",
    "  return new_ip\n",
    "\n",
    "# Call the function with some examples and print the output\n",
    "print(remove_zeros(\"255.024.01.01\"))\n",
    "print(remove_zeros(\"127.0.0.01\"))"
   ]
  },
  {
   "cell_type": "code",
   "execution_count": null,
   "id": "27d4b9e3",
   "metadata": {},
   "outputs": [],
   "source": []
  },
  {
   "cell_type": "code",
   "execution_count": 22,
   "id": "e5110955",
   "metadata": {},
   "outputs": [
    {
     "name": "stdout",
     "output_type": "stream",
     "text": [
      "['fox', 'dog']\n"
     ]
    }
   ],
   "source": [
    "# Import re module\n",
    "import re\n",
    "\n",
    "# Define the sample text and the searched words as strings\n",
    "text = 'The quick brown fox jumps over the lazy dog.'\n",
    "words = 'fox|dog|horse'\n",
    "\n",
    "# Define a RegEx pattern that matches any of the searched words\n",
    "pattern = words\n",
    "\n",
    "# Find all the matches of the pattern in the text\n",
    "matches = re.findall(pattern, text)\n",
    "\n",
    "# Print the list of matches or iterate over them as needed\n",
    "print(matches)\n",
    "# or\n",
    "#for match in matches:\n",
    "#  print(match)"
   ]
  },
  {
   "cell_type": "code",
   "execution_count": 25,
   "id": "25cd77b1",
   "metadata": {},
   "outputs": [
    {
     "name": "stdout",
     "output_type": "stream",
     "text": [
      "Match found: fox\n",
      "Start position: 16\n",
      "End position: 19\n"
     ]
    }
   ],
   "source": [
    "# Import re module\n",
    "import re\n",
    "\n",
    "# Define the sample text and the searched word as strings\n",
    "text = 'The quick brown fox jumps over the lazy dog.'\n",
    "word = 'fox'\n",
    "\n",
    "# Define a RegEx pattern that matches the searched word\n",
    "pattern = re.escape(word)\n",
    "\n",
    "# Find the first match of the pattern in the text\n",
    "result = re.search(pattern, text)\n",
    "\n",
    "# Print a message based on the result\n",
    "if result:\n",
    "  print(\"Match found:\", result.group())\n",
    "  print(\"Start position:\", result.start())\n",
    "  print(\"End position:\", result.end())\n",
    "else:\n",
    "  print(\"No match\")"
   ]
  },
  {
   "cell_type": "code",
   "execution_count": 26,
   "id": "b6326d5a",
   "metadata": {},
   "outputs": [
    {
     "name": "stdout",
     "output_type": "stream",
     "text": [
      "['exercises', 'exercises', 'exercises']\n"
     ]
    }
   ],
   "source": [
    "# Import re module\n",
    "import re\n",
    "\n",
    "# Define the sample text and the pattern as strings\n",
    "text = 'Python exercises, PHP exercises, C# exercises'\n",
    "pattern = 'exercises'\n",
    "\n",
    "# Find all the matches of the pattern in the text\n",
    "matches = re.findall(pattern, text)\n",
    "\n",
    "# Print the list of matches or iterate over them as needed\n",
    "print(matches)\n",
    "# or\n",
    "#for match in matches:\n",
    "#  print(match)"
   ]
  },
  {
   "cell_type": "code",
   "execution_count": 28,
   "id": "f511dad0",
   "metadata": {},
   "outputs": [
    {
     "name": "stdout",
     "output_type": "stream",
     "text": [
      "Occurrence 1\n",
      "Match found: exercises\n",
      "Start position: 7\n",
      "End position: 16\n",
      "\n",
      "Occurrence 2\n",
      "Match found: exercises\n",
      "Start position: 22\n",
      "End position: 31\n",
      "\n",
      "Occurrence 3\n",
      "Match found: exercises\n",
      "Start position: 36\n",
      "End position: 45\n",
      "\n"
     ]
    }
   ],
   "source": [
    "# Import re module\n",
    "import re\n",
    "\n",
    "# Define the sample text and the pattern as strings\n",
    "text = 'Python exercises, PHP exercises, C# exercises'\n",
    "pattern = 'exercises'\n",
    "\n",
    "# Find all the matches of the pattern in the text as an iterator object\n",
    "results = re.finditer(pattern, text)\n",
    "\n",
    "# Iterate over each match object and print its occurrence number and position using a counter variable\n",
    "count = 1 # Initialize counter variable\n",
    "for result in results: # Loop through each match object\n",
    "  print(\"Occurrence\", count) # Print occurrence number\n",
    "  print(\"Match found:\", result.group()) # Print matched string\n",
    "  print(\"Start position:\", result.start()) # Print start position\n",
    "  print(\"End position:\", result.end()) # Print end position\n",
    "  print() # Print a blank line\n",
    "  count += 1 # Increment counter variable"
   ]
  },
  {
   "cell_type": "code",
   "execution_count": 32,
   "id": "88c0bb81",
   "metadata": {},
   "outputs": [
    {
     "name": "stdout",
     "output_type": "stream",
     "text": [
      "Enter date in yyyy-mm-dd format: 2023-07-15\n",
      "Formatted date: 15-07-2023\n"
     ]
    }
   ],
   "source": [
    "date = input(\"Enter date in yyyy-mm-dd format: \")\n",
    "\n",
    "# Split the date into its year, month, and day components\n",
    "year, month, day = date.split(\"-\")\n",
    "\n",
    "# Format the date in dd-mm-yyyy format\n",
    "formatted_date = f\"{day}-{month}-{year}\"\n",
    "\n",
    "print(\"Formatted date:\", formatted_date)"
   ]
  },
  {
   "cell_type": "code",
   "execution_count": 35,
   "id": "1924e0c2",
   "metadata": {},
   "outputs": [
    {
     "name": "stdout",
     "output_type": "stream",
     "text": [
      "Value: 23\n",
      "Start position: 9\n",
      "End position: 11\n"
     ]
    }
   ],
   "source": [
    "# Import re module\n",
    "import re\n",
    "\n",
    "# Define a given string as a variable\n",
    "text = \"Today is 23rd of September\"\n",
    "\n",
    "# Define a RegEx pattern that matches numbers in the string\n",
    "pattern = \"\\d+\"\n",
    "\n",
    "# Find all the matches of the pattern in the text as an iterator object\n",
    "results = re.finditer(pattern, text)\n",
    "\n",
    "# Iterate over each match object and print its value and position using a loop\n",
    "for result in results: # Loop through each match object\n",
    "  print(\"Value:\", result.group()) # Print matched string\n",
    "  print(\"Start position:\", result.start()) # Print start position\n",
    "  print(\"End position:\", result.end()) # Print end "
   ]
  },
  {
   "cell_type": "code",
   "execution_count": 36,
   "id": "f9cd0346",
   "metadata": {},
   "outputs": [
    {
     "name": "stdout",
     "output_type": "stream",
     "text": [
      "35\n"
     ]
    }
   ],
   "source": [
    "# Import re module\n",
    "import re\n",
    "\n",
    "# Define a string as a variable\n",
    "text = \"The highest temperature today was 35 degrees Celsius\"\n",
    "\n",
    "# Define a RegEx pattern that matches numbers in the string\n",
    "pattern = \"\\d+\"\n",
    "\n",
    "# Find all the matches of the pattern in the text as a list of strings\n",
    "numbers = re.findall(pattern, text)\n",
    "\n",
    "# Convert each element in the list of strings to an integer\n",
    "numbers = map(int, numbers)\n",
    "\n",
    "# Find the maximum value in the list of integers\n",
    "max_number = max(numbers)\n",
    "\n",
    "# Print the maximum value or use it as needed\n",
    "print(max_number)"
   ]
  },
  {
   "cell_type": "code",
   "execution_count": 37,
   "id": "d82ac372",
   "metadata": {},
   "outputs": [
    {
     "name": "stdout",
     "output_type": "stream",
     "text": [
      "This Is A Sentence With No Spaces\n"
     ]
    }
   ],
   "source": [
    "# Import re module\n",
    "import re\n",
    "\n",
    "# Define a string as a variable\n",
    "text = \"ThisIsASentenceWithNoSpaces\"\n",
    "\n",
    "# Define a RegEx pattern that matches words starting with capital letters except for the first word\n",
    "pattern = \"(?<!^)[A-Z]\"\n",
    "\n",
    "# Replace each match of the pattern with a space followed by the matched letter\n",
    "new_text = re.sub(pattern, \" \\g<0>\", text)\n",
    "\n",
    "# Print the new text or use it as needed\n",
    "print(new_text)"
   ]
  },
  {
   "cell_type": "code",
   "execution_count": 38,
   "id": "4723b191",
   "metadata": {},
   "outputs": [
    {
     "name": "stdout",
     "output_type": "stream",
     "text": [
      "['Alice', 'Bob']\n"
     ]
    }
   ],
   "source": [
    "# Import re module\n",
    "import re\n",
    "\n",
    "# Define a string as a variable\n",
    "text = \"Alice loves apples and Bob likes bananas\"\n",
    "\n",
    "# Define a RegEx pattern that matches sequences of one upper case letter followed by lower case letters\n",
    "pattern = \"[A-Z][a-z]+\"\n",
    "\n",
    "# Find all the matches of the pattern in the text as a list of strings\n",
    "words = re.findall(pattern, text)\n",
    "\n",
    "# Print the list of words or iterate over them as needed\n",
    "print(words)\n",
    "# or\n",
    "#for word in words:\n",
    "#  print(word)"
   ]
  },
  {
   "cell_type": "code",
   "execution_count": 39,
   "id": "cffdd18e",
   "metadata": {},
   "outputs": [
    {
     "name": "stdout",
     "output_type": "stream",
     "text": [
      "Good morning everyone\n"
     ]
    }
   ],
   "source": [
    "# Import re module\n",
    "import re\n",
    "\n",
    "# Define a sentence as a variable\n",
    "sentence = \"Good morning morning everyone\"\n",
    "\n",
    "# Define a RegEx pattern that matches duplicate words in the sentence\n",
    "pattern = r\"(\\b\\w+\\b)\\s+\\1\"\n",
    "\n",
    "# Replace each match of the pattern with only one occurrence of the word\n",
    "new_sentence = re.sub(pattern, r\"\\1\", sentence)\n",
    "\n",
    "# Print the new sentence or use it as needed\n",
    "print(new_sentence)"
   ]
  },
  {
   "cell_type": "code",
   "execution_count": 40,
   "id": "eb5d60fa",
   "metadata": {},
   "outputs": [
    {
     "name": "stdout",
     "output_type": "stream",
     "text": [
      "Enter a string ending with alphanumeric character: A\n",
      "String ends with an alphanumeric character\n"
     ]
    }
   ],
   "source": [
    "import re\n",
    "\n",
    "string = input(\"Enter a string ending with alphanumeric character: \")\n",
    "pattern = r\".*\\w$\"\n",
    "\n",
    "if re.match(pattern, string):\n",
    "    print(\"String ends with an alphanumeric character\")\n",
    "else:\n",
    "    print(\"String does not end with an alphanumeric character\")"
   ]
  },
  {
   "cell_type": "code",
   "execution_count": 41,
   "id": "d62ad773",
   "metadata": {},
   "outputs": [
    {
     "name": "stdout",
     "output_type": "stream",
     "text": [
      "['#Doltiwal', '#xyzabc', '#Demonetization']\n"
     ]
    }
   ],
   "source": [
    "import re\n",
    "\n",
    "text = 'RT @kapil_kausik: #Doltiwal I mean #xyzabc is \"hurt\" by #Demonetization as the same has rendered USELESS  \"acquired funds\" No wo'\n",
    "\n",
    "hashtags = re.findall(r'#\\w+', text)\n",
    "print(hashtags)"
   ]
  },
  {
   "cell_type": "code",
   "execution_count": 42,
   "id": "23fe0249",
   "metadata": {},
   "outputs": [
    {
     "name": "stdout",
     "output_type": "stream",
     "text": [
      "@Jags123456 Bharat band on 28??Those who  are protesting #demonetization  are all different party leaders\n"
     ]
    }
   ],
   "source": [
    "import re\n",
    "\n",
    "text = \"@Jags123456 Bharat band on 28??Those who  are protesting #demonetization  are all different party leaders\"\n",
    "clean_text = re.sub(r'', '', text)\n",
    "print(clean_text)"
   ]
  },
  {
   "cell_type": "code",
   "execution_count": null,
   "id": "6c90eb3c",
   "metadata": {},
   "outputs": [],
   "source": []
  },
  {
   "cell_type": "code",
   "execution_count": 44,
   "id": "05c992a7",
   "metadata": {},
   "outputs": [
    {
     "name": "stdout",
     "output_type": "stream",
     "text": [
      "Python:Exercises:PHP:exercises:\n"
     ]
    }
   ],
   "source": [
    "import re\n",
    "\n",
    "text = 'Python Exercises, PHP exercises.'\n",
    "colon_separated_text = re.sub(r'[,\\.\\s]+', ':', text)\n",
    "print(colon_separated_text)"
   ]
  },
  {
   "cell_type": "code",
   "execution_count": null,
   "id": "16537673",
   "metadata": {},
   "outputs": [],
   "source": []
  }
 ],
 "metadata": {
  "kernelspec": {
   "display_name": "Python 3 (ipykernel)",
   "language": "python",
   "name": "python3"
  },
  "language_info": {
   "codemirror_mode": {
    "name": "ipython",
    "version": 3
   },
   "file_extension": ".py",
   "mimetype": "text/x-python",
   "name": "python",
   "nbconvert_exporter": "python",
   "pygments_lexer": "ipython3",
   "version": "3.9.13"
  }
 },
 "nbformat": 4,
 "nbformat_minor": 5
}
